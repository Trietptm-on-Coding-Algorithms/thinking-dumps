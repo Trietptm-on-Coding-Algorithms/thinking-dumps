{
 "cells": [
  {
   "cell_type": "code",
   "execution_count": 2,
   "metadata": {
    "collapsed": false
   },
   "outputs": [],
   "source": [
    "import numpy as np"
   ]
  },
  {
   "cell_type": "code",
   "execution_count": 3,
   "metadata": {
    "collapsed": true
   },
   "outputs": [],
   "source": [
    "class NearestNeighbor:\n",
    "    def train(self, X, Y):\n",
    "        \"\"\"X is NxD array, N: training examples, D: flattened img\"\"\"\n",
    "        self.Ytrain = Y\n",
    "        self.Xtrain = X\n",
    "\n",
    "    def predict(self, X, k=1):\n",
    "        \"\"\"X is NxD array, N: training examples, D: flattened img\"\"\"\n",
    "\n",
    "        # L1 distance: d = sum |a - b|\n",
    "        distance = np.sum(np.abs(self.Xtrain - self.X), axis=1)\n",
    "\n",
    "        # L2 distance: d = sqrt(sum (a - b)^2)\n",
    "        #distance = np.sqrt(np.sum((self.Xtrain - self.X) ** 2))\n",
    "\n",
    "        min_indices = distance.argsort()\n",
    "        Ypred = self.Ytrain[min_indices[:k]]\n",
    "        _, counts = np.unique(Ypred, return_counts=True)\n",
    "        return Ypred[counts.argmax()]"
   ]
  },
  {
   "cell_type": "code",
   "execution_count": null,
   "metadata": {},
   "outputs": [],
   "source": [
    ""
   ]
  }
 ],
 "metadata": {
  "kernelspec": {
   "display_name": "Python 3",
   "language": "python",
   "name": "python3"
  },
  "language_info": {
   "codemirror_mode": {
    "name": "ipython",
    "version": 3.0
   },
   "file_extension": ".py",
   "mimetype": "text/x-python",
   "name": "python",
   "nbconvert_exporter": "python",
   "pygments_lexer": "ipython3",
   "version": "3.5.2"
  }
 },
 "nbformat": 4,
 "nbformat_minor": 0
}