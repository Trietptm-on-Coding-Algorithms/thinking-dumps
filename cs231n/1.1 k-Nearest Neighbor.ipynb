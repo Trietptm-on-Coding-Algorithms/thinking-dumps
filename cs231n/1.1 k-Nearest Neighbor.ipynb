{
 "cells": [
  {
   "cell_type": "code",
   "execution_count": 1,
   "metadata": {
    "collapsed": false,
    "deletable": true,
    "editable": true
   },
   "outputs": [],
   "source": [
    "import numpy as np"
   ]
  },
  {
   "cell_type": "code",
   "execution_count": 2,
   "metadata": {
    "collapsed": true,
    "deletable": true,
    "editable": true
   },
   "outputs": [],
   "source": [
    "class NearestNeighbor:\n",
    "    def train(self, X, Y):\n",
    "        \"\"\"X is NxD array, N: training examples, D: flattened img\"\"\"\n",
    "        self.Ytrain = Y\n",
    "        self.Xtrain = X\n",
    "\n",
    "    def predict1(self, X, k=1):\n",
    "        \"\"\"X is 1xD array, D: flattened img\"\"\"\n",
    "\n",
    "        # L1 distance: d = sum |a - b|\n",
    "        distances = np.sum(np.abs(self.Xtrain - X), axis=1)\n",
    "\n",
    "        # L2 distance: d = sqrt(sum (a - b)^2)\n",
    "        #distances = np.sqrt(np.sum((self.Xtrain - X) ** 2))\n",
    "\n",
    "        min_indices = distances.argsort()\n",
    "        Ypred = self.Ytrain[min_indices[:k]]\n",
    "        _, counts = np.unique(Ypred, return_counts=True)\n",
    "        return Ypred[counts.argmax()]"
   ]
  },
  {
   "cell_type": "code",
   "execution_count": 3,
   "metadata": {
    "collapsed": true,
    "deletable": true,
    "editable": true
   },
   "outputs": [],
   "source": [
    "from common import *"
   ]
  },
  {
   "cell_type": "code",
   "execution_count": 4,
   "metadata": {
    "collapsed": false,
    "deletable": true,
    "editable": true
   },
   "outputs": [
    {
     "data": {
      "text/plain": [
       "{b'label_names': [b'airplane',\n",
       "  b'automobile',\n",
       "  b'bird',\n",
       "  b'cat',\n",
       "  b'deer',\n",
       "  b'dog',\n",
       "  b'frog',\n",
       "  b'horse',\n",
       "  b'ship',\n",
       "  b'truck'],\n",
       " b'num_cases_per_batch': 10000,\n",
       " b'num_vis': 3072}"
      ]
     },
     "execution_count": 4,
     "metadata": {},
     "output_type": "execute_result"
    }
   ],
   "source": [
    "cifar = cifar10()\n",
    "trainX = cifar[b'data'][:8000, :]\n",
    "trainY = cifar[b'labels'][:8000]\n",
    "testX = cifar[b'data'][8000:, :]\n",
    "testY = cifar[b'labels'][8000:]\n",
    "meta = cifar10('meta')\n",
    "meta"
   ]
  },
  {
   "cell_type": "code",
   "execution_count": 5,
   "metadata": {
    "collapsed": false,
    "deletable": true,
    "editable": true
   },
   "outputs": [],
   "source": [
    "%matplotlib inline"
   ]
  },
  {
   "cell_type": "code",
   "execution_count": 6,
   "metadata": {
    "collapsed": false,
    "deletable": true,
    "editable": true
   },
   "outputs": [
    {
     "data": {
      "text/plain": [
       "b'deer'"
      ]
     },
     "execution_count": 6,
     "metadata": {},
     "output_type": "execute_result"
    },
    {
     "data": {
      "image/png": "[encoded data removed]",
      "text/plain": [
       "<matplotlib.figure.Figure at 0x108061f60>"
      ]
     },
     "metadata": {},
     "output_type": "display_data"
    }
   ],
   "source": [
    "i = 3\n",
    "imshow(trainX[i, :].reshape(32, 32, 3))\n",
    "meta[b'label_names'][trainY[i]]"
   ]
  },
  {
   "cell_type": "code",
   "execution_count": 7,
   "metadata": {
    "collapsed": true,
    "deletable": true,
    "editable": true
   },
   "outputs": [],
   "source": [
    "nn = NearestNeighbor()\n",
    "nn.train(trainX, trainY)"
   ]
  },
  {
   "cell_type": "code",
   "execution_count": 8,
   "metadata": {
    "collapsed": false,
    "deletable": true,
    "editable": true
   },
   "outputs": [
    {
     "data": {
      "text/plain": [
       "\"got b'cat', should be b'automobile'\""
      ]
     },
     "execution_count": 8,
     "metadata": {},
     "output_type": "execute_result"
    },
    {
     "data": {
      "image/png": "[encoded data removed]",
      "text/plain": [
       "<matplotlib.figure.Figure at 0x10bceb358>"
      ]
     },
     "metadata": {},
     "output_type": "display_data"
    }
   ],
   "source": [
    "i = 1\n",
    "pred = nn.predict1(testX[i], 5)\n",
    "imshow(testX[i, :].reshape(32, 32, 3))\n",
    "\"got %s, should be %s\" % (meta[b'label_names'][pred], meta[b'label_names'][testY[i]])"
   ]
  },
  {
   "cell_type": "code",
   "execution_count": 9,
   "metadata": {
    "collapsed": false
   },
   "outputs": [
    {
     "name": "stdout",
     "output_type": "stream",
     "text": [
      "Precision for k=1: 0.30\n",
      "Precision for k=3: 0.25\n",
      "Precision for k=9: 0.35\n",
      "Precision for k=20: 0.25\n",
      "Precision for k=50: 0.25\n"
     ]
    }
   ],
   "source": [
    "C = 20\n",
    "testX = testX[:C, :]\n",
    "testY = testY[:C]\n",
    "for k in [1, 3, 9, 20, 50]:\n",
    "    pred = [nn.predict1(testX[i], k) for i in range(C)]\n",
    "    wrong_cnt = np.count_nonzero(testY - pred)\n",
    "    print(\"Precision for k=%d: %.2f\" % (k, 1 - (wrong_cnt / C)))"
   ]
  },
  {
   "cell_type": "code",
   "execution_count": null,
   "metadata": {
    "collapsed": true
   },
   "outputs": [],
   "source": []
  }
 ],
 "metadata": {
  "kernelspec": {
   "display_name": "Python 3",
   "language": "python",
   "name": "python3"
  },
  "language_info": {
   "codemirror_mode": {
    "name": "ipython",
    "version": 3
   },
   "file_extension": ".py",
   "mimetype": "text/x-python",
   "name": "python",
   "nbconvert_exporter": "python",
   "pygments_lexer": "ipython3",
   "version": "3.6.0"
  }
 },
 "nbformat": 4,
 "nbformat_minor": 0
}
